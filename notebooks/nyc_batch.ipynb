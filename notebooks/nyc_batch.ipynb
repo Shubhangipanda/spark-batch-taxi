{
 "cells": [
  {
   "cell_type": "code",
   "execution_count": 7,
   "id": "3263a9a1",
   "metadata": {},
   "outputs": [],
   "source": [
    "from pyspark.sql import SparkSession"
   ]
  },
  {
   "cell_type": "code",
   "execution_count": 10,
   "id": "8753a675",
   "metadata": {},
   "outputs": [
    {
     "name": "stderr",
     "output_type": "stream",
     "text": [
      "WARNING: Using incubator modules: jdk.incubator.vector\n",
      "Using Spark's default log4j profile: org/apache/spark/log4j2-defaults.properties\n",
      "Setting default log level to \"WARN\".\n",
      "To adjust logging level use sc.setLogLevel(newLevel). For SparkR, use setLogLevel(newLevel).\n",
      "25/08/29 01:45:14 WARN NativeCodeLoader: Unable to load native-hadoop library for your platform... using builtin-java classes where applicable\n"
     ]
    }
   ],
   "source": [
    "\n",
    "# Start Spark session\n",
    "spark = SparkSession.builder \\\n",
    "    .appName(\"NYC Taxi Batch July 2025\") \\\n",
    "    .getOrCreate()"
   ]
  },
  {
   "cell_type": "code",
   "execution_count": 12,
   "id": "976bb4f4",
   "metadata": {},
   "outputs": [],
   "source": [
    "# 2. Load NYC Taxi data (update path to your file)\n",
    "df = spark.read.parquet(\"/Users/shubhangipanda/Documents/Projects/nyc-taxi-spark/data/raw/yellow_tripdata_2025-07.parquet\")\n"
   ]
  },
  {
   "cell_type": "code",
   "execution_count": 13,
   "id": "fb8a5786",
   "metadata": {},
   "outputs": [
    {
     "name": "stdout",
     "output_type": "stream",
     "text": [
      "root\n",
      " |-- VendorID: integer (nullable = true)\n",
      " |-- tpep_pickup_datetime: timestamp_ntz (nullable = true)\n",
      " |-- tpep_dropoff_datetime: timestamp_ntz (nullable = true)\n",
      " |-- passenger_count: long (nullable = true)\n",
      " |-- trip_distance: double (nullable = true)\n",
      " |-- RatecodeID: long (nullable = true)\n",
      " |-- store_and_fwd_flag: string (nullable = true)\n",
      " |-- PULocationID: integer (nullable = true)\n",
      " |-- DOLocationID: integer (nullable = true)\n",
      " |-- payment_type: long (nullable = true)\n",
      " |-- fare_amount: double (nullable = true)\n",
      " |-- extra: double (nullable = true)\n",
      " |-- mta_tax: double (nullable = true)\n",
      " |-- tip_amount: double (nullable = true)\n",
      " |-- tolls_amount: double (nullable = true)\n",
      " |-- improvement_surcharge: double (nullable = true)\n",
      " |-- total_amount: double (nullable = true)\n",
      " |-- congestion_surcharge: double (nullable = true)\n",
      " |-- Airport_fee: double (nullable = true)\n",
      " |-- cbd_congestion_fee: double (nullable = true)\n",
      "\n"
     ]
    }
   ],
   "source": [
    "# 3. Check schema\n",
    "df.printSchema()"
   ]
  },
  {
   "cell_type": "code",
   "execution_count": 14,
   "id": "ed91475e",
   "metadata": {},
   "outputs": [
    {
     "name": "stdout",
     "output_type": "stream",
     "text": [
      "+--------+--------------------+---------------------+---------------+-------------+----------+------------------+------------+------------+------------+-----------+-----+-------+----------+------------+---------------------+------------+--------------------+-----------+------------------+\n",
      "|VendorID|tpep_pickup_datetime|tpep_dropoff_datetime|passenger_count|trip_distance|RatecodeID|store_and_fwd_flag|PULocationID|DOLocationID|payment_type|fare_amount|extra|mta_tax|tip_amount|tolls_amount|improvement_surcharge|total_amount|congestion_surcharge|Airport_fee|cbd_congestion_fee|\n",
      "+--------+--------------------+---------------------+---------------+-------------+----------+------------------+------------+------------+------------+-----------+-----+-------+----------+------------+---------------------+------------+--------------------+-----------+------------------+\n",
      "|       1| 2025-07-01 00:29:37|  2025-07-01 00:45:30|              1|          7.3|         1|                 N|         138|          74|           1|       29.6| 7.75|    0.5|       9.0|        6.94|                  1.0|       54.79|                 0.0|       1.75|               0.0|\n",
      "|       1| 2025-07-01 00:23:28|  2025-07-01 01:07:44|              1|         17.7|         2|                 N|         132|         142|           1|       70.0| 4.25|    0.5|       5.0|         0.0|                  1.0|       80.75|                 2.5|       1.75|               0.0|\n",
      "|       2| 2025-07-01 00:53:50|  2025-07-01 01:27:12|              1|         9.98|         1|                 N|         138|          48|           1|       43.6|  6.0|    0.5|     10.87|         0.0|                  1.0|       66.97|                 2.5|       1.75|              0.75|\n",
      "|       2| 2025-07-01 00:58:49|  2025-07-01 01:15:55|              1|        10.27|         1|                 N|         138|         229|           1|       38.7|  6.0|    0.5|      14.1|        6.94|                  1.0|       72.24|                 2.5|       1.75|              0.75|\n",
      "|       2| 2025-07-01 00:09:22|  2025-07-01 00:23:54|              1|         2.94|         1|                 N|         211|          97|           1|       17.0|  1.0|    0.5|       3.0|         0.0|                  1.0|       25.75|                 2.5|        0.0|              0.75|\n",
      "+--------+--------------------+---------------------+---------------+-------------+----------+------------------+------------+------------+------------+-----------+-----+-------+----------+------------+---------------------+------------+--------------------+-----------+------------------+\n",
      "only showing top 5 rows\n"
     ]
    },
    {
     "name": "stderr",
     "output_type": "stream",
     "text": [
      "\r",
      "[Stage 2:=============================>                             (2 + 2) / 4]\r",
      "\r",
      "                                                                                \r"
     ]
    }
   ],
   "source": [
    "# 4. Show first 5 rows\n",
    "df.show(5)"
   ]
  },
  {
   "cell_type": "code",
   "execution_count": 15,
   "id": "a694d9df",
   "metadata": {},
   "outputs": [
    {
     "name": "stdout",
     "output_type": "stream",
     "text": [
      "Total rows: 3898963\n"
     ]
    }
   ],
   "source": [
    "\n",
    "# 5. Row count\n",
    "print(\"Total rows:\", df.count())\n"
   ]
  },
  {
   "cell_type": "code",
   "execution_count": 16,
   "id": "8a0acdf9",
   "metadata": {},
   "outputs": [
    {
     "name": "stdout",
     "output_type": "stream",
     "text": [
      "+-------+------------------+------------------+------------------+\n",
      "|summary|     trip_distance|       fare_amount|      total_amount|\n",
      "+-------+------------------+------------------+------------------+\n",
      "|  count|           3898963|           3898963|           3898963|\n",
      "|   mean|7.1047555542320975|18.547692047860266|26.827440152669062|\n",
      "| stddev| 670.0147514855905|20.071383594139693| 24.27460514817624|\n",
      "|    min|               0.0|           -1591.3|          -1634.75|\n",
      "|    max|         397994.37|            2495.0|           5297.87|\n",
      "+-------+------------------+------------------+------------------+\n",
      "\n"
     ]
    }
   ],
   "source": [
    "\n",
    "# 6. Quick stats\n",
    "df.describe([\"trip_distance\", \"fare_amount\", \"total_amount\"]).show()\n"
   ]
  },
  {
   "cell_type": "code",
   "execution_count": 18,
   "id": "1069c240",
   "metadata": {},
   "outputs": [],
   "source": [
    "# 7. Save a smaller sample (for faster testing)\n",
    "sample_df = df.limit(10000)\n",
    "sample_df.write.mode(\"overwrite\").parquet(\"/Users/shubhangipanda/Documents/Projects/nyc-taxi-spark/data/processed/sample_july2025.parquet\")"
   ]
  },
  {
   "cell_type": "code",
   "execution_count": null,
   "id": "05e99205",
   "metadata": {},
   "outputs": [],
   "source": []
  }
 ],
 "metadata": {
  "kernelspec": {
   "display_name": "Python 3 (ipykernel)",
   "language": "python",
   "name": "python3"
  },
  "language_info": {
   "codemirror_mode": {
    "name": "ipython",
    "version": 3
   },
   "file_extension": ".py",
   "mimetype": "text/x-python",
   "name": "python",
   "nbconvert_exporter": "python",
   "pygments_lexer": "ipython3",
   "version": "3.10.9"
  }
 },
 "nbformat": 4,
 "nbformat_minor": 5
}
